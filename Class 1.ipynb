{
 "cells": [
  {
   "cell_type": "markdown",
   "metadata": {},
   "source": [
    "# Python Lesson 1 31st May 2020\n"
   ]
  },
  {
   "cell_type": "code",
   "execution_count": 1,
   "metadata": {},
   "outputs": [],
   "source": [
    "# 1. Programming Language - It is a dialect used in computer for creation and interpretation of data for decision making or monitoring.\n",
    "\n",
    "# 2. Why and where it is used - We use \"PyLan\" for developing tools(software etc.) which may help us humans \n",
    "# for performing task and serving the ecosystem better. It is used in developing the application which supports\n",
    "# the entire environment of earth and space(In prgress) -  Agriculture, mining, developing defense systems, \n",
    "# entertainment industry, Psychology and wellbeing - Name it and it is there.\n"
   ]
  },
  {
   "cell_type": "code",
   "execution_count": 1,
   "metadata": {},
   "outputs": [],
   "source": [
    "# 3.  Introduction to Python - Python is a evolved programming language which is less complex and contains General programming, \n",
    "# Functional programming, OOP & exclusive characterstic of \"ease of syntax\". It is extensively used in Finance domain \n",
    "# due to its simplicity in operating and vast libraries like numpy which helps in financial interpretation of data becoming more\n",
    "# simplified.\n",
    "\n",
    "# 4. Data Structure - Every single Programming Language has a unique style of feeding the information in the system - meaning \n",
    "# it has its own syntax or methodology to write into the system. Python is no exception, how we use different symbols & syntax\n",
    "# to input and extract a meaning ful information is cosidered as data structuring.\n",
    "\n",
    "#     4.1 Primitive Data Structure - conventional form like numbers and alphabets.\n",
    "#     4.2 Non - Primitive Data Structure - Boolean, strings, tuple etc ???? \n",
    "\n",
    "\n",
    "# 5. Algorithms : it is a methodology or series of steps formulated precisely(no ambiguity) in the system to reach to \n",
    "# the desired outcome.\n",
    "\n",
    "# 6. Numbers & Strings  \n"
   ]
  },
  {
   "cell_type": "code",
   "execution_count": 2,
   "metadata": {},
   "outputs": [
    {
     "data": {
      "text/plain": [
       "'C:\\\\Users\\\\HP'"
      ]
     },
     "execution_count": 2,
     "metadata": {},
     "output_type": "execute_result"
    }
   ],
   "source": [
    "pwd\n"
   ]
  }
 ],
 "metadata": {
  "kernelspec": {
   "display_name": "Python 3",
   "language": "python",
   "name": "python3"
  },
  "language_info": {
   "codemirror_mode": {
    "name": "ipython",
    "version": 3
   },
   "file_extension": ".py",
   "mimetype": "text/x-python",
   "name": "python",
   "nbconvert_exporter": "python",
   "pygments_lexer": "ipython3",
   "version": "3.7.3"
  }
 },
 "nbformat": 4,
 "nbformat_minor": 2
}
